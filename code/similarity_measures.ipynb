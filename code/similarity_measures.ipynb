{
 "cells": [
  {
   "cell_type": "code",
   "execution_count": 1,
   "metadata": {
    "collapsed": true
   },
   "outputs": [],
   "source": [
    "from pandas import DataFrame, read_csv\n",
    "from os import path\n",
    "from scipy.spatial.distance import pdist\n",
    "from scipy.stats import spearmanr\n",
    "from scipy.spatial import KDTree\n",
    "\n",
    "import numpy as np"
   ]
  },
  {
   "cell_type": "code",
   "execution_count": null,
   "metadata": {
    "collapsed": true
   },
   "outputs": [],
   "source": [
    "def parse_dataframe(df):\n",
    "    coords = []\n",
    "    words = []\n",
    "    for column in df.iloc[:,1:]:\n",
    "        coords.append(np.array([int(num) for num in column.split(',')]))\n",
    "        words.append([word.split(\"'\")[1::2][0] for word in df[column]])\n",
    "    return coords, words"
   ]
  },
  {
   "cell_type": "code",
   "execution_count": null,
   "metadata": {
    "collapsed": true
   },
   "outputs": [],
   "source": [
    "# SETS SIMILARITY\n",
    "\n",
    "def jaccard_distance(wordlist1, wordlist2):\n",
    "    wordset1 = set(wordlist1)\n",
    "    wordset2 = set(wordlist2)\n",
    "    return float(len(wordset1 & wordset2)) / len(wordset1 | wordset2)\n",
    "\n",
    "def sorensen_dice_distance(wordlist1, wordlist2):\n",
    "    intersection = np.logical_and(wordlist1, wordlist2)\n",
    "    return 2. * intersection.sum() / (wordlist1.sum() + wordlist2.sum())\n",
    "\n",
    "# RANKED LISTS SIMILARITY\n",
    "\n",
    "def dcg(wordlist, score=0.0):\n",
    "    for ind, word in enumerate(wordlist):\n",
    "        score += float(word)/math.log((ind + 2))\n",
    "    return score\n",
    "\n",
    "def ndcg(wordlist1, wordlist2):\n",
    "    return dcg(wordlist2)/dcg(wordlist1)\n",
    "\n",
    "def precision_at_k(wordlist1, wordlist2, k, precision=0.0, relevant=0.0):\n",
    "    for i, value in enumerate(wordlist2[:k]):\n",
    "        if value == reference[i]:\n",
    "            relevant += 1.0\n",
    "    return relevant/k\n",
    "\n",
    "### \n",
    "\n",
    "def compare_wordlists(wordlist1, wordlist2, metric='jaccard'):\n",
    "    if metric == 'jaccard':\n",
    "        return jaccard_distance(wordlist1, wordlist2)\n",
    "    elif metric == 'ndcg':\n",
    "        return ndcg(wordlist1, wordlist2)\n",
    "    elif metric == 'p@k':\n",
    "        return precision_at_k(wordlist1, wordlist2)"
   ]
  },
  {
   "cell_type": "code",
   "execution_count": null,
   "metadata": {
    "collapsed": true
   },
   "outputs": [],
   "source": [
    "def compare_coordinates(coord1, coord2, metric='euclidean'):\n",
    "    return pdist((coord1, coord2), metric)"
   ]
  },
  {
   "cell_type": "code",
   "execution_count": null,
   "metadata": {
    "collapsed": true
   },
   "outputs": [],
   "source": [
    "coords, words = parse_dataframe(read_csv(path.join('data', 'output', 'brain_map.csv')))"
   ]
  },
  {
   "cell_type": "code",
   "execution_count": null,
   "metadata": {
    "collapsed": true
   },
   "outputs": [],
   "source": [
    "def calculate_distances(coords, words, curr_ind=0):\n",
    "    curr_coord = coords[curr_ind]\n",
    "    curr_word = words[curr_ind]\n",
    "    word_distances = []\n",
    "    coord_distances = []\n",
    "    for ind, coord in enumerate(coords):\n",
    "        if (coord == curr_coord).all():\n",
    "            continue\n",
    "        coord_distances.append(compare_coordinates(curr_coord, coord))\n",
    "        word_distances.append(compare_wordlists(curr_word, words[ind]))\n",
    "    return coord_distances, word_distances"
   ]
  },
  {
   "cell_type": "code",
   "execution_count": null,
   "metadata": {
    "collapsed": true
   },
   "outputs": [],
   "source": [
    "spearmans = []\n",
    "\n",
    "for curr_ind in range(len(coords)):\n",
    "    spearmans.append(spearmanr(*calculate_distances(coords, words)).correlation)\n",
    "    \n",
    "print(np.mean(np.array(spearmans)))\n",
    "print(np.median(np.array(spearmans)))"
   ]
  },
  {
   "cell_type": "code",
   "execution_count": null,
   "metadata": {
    "collapsed": true
   },
   "outputs": [],
   "source": [
    "tree = KDTree(coords)"
   ]
  }
 ],
 "metadata": {
  "kernelspec": {
   "display_name": "Python 3",
   "language": "python",
   "name": "python3"
  },
  "language_info": {
   "codemirror_mode": {
    "name": "ipython",
    "version": 3
   },
   "file_extension": ".py",
   "mimetype": "text/x-python",
   "name": "python",
   "nbconvert_exporter": "python",
   "pygments_lexer": "ipython3",
   "version": "3.6.1"
  }
 },
 "nbformat": 4,
 "nbformat_minor": 2
}
